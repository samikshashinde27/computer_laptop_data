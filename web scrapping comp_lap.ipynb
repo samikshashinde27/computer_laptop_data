{
 "cells": [
  {
   "cell_type": "code",
   "execution_count": 1,
   "id": "e36b9abe",
   "metadata": {},
   "outputs": [],
   "source": [
    "#extracting data from website using webscrapping in python.\n",
    "\n",
    "#requests module-send HTTP request to specified URL and return response object containing html content(str type).\n",
    "\n",
    "#BeautifulSoup module-has power understand HTML language in python enviornment(with BeautifulSoup type).\n",
    "#used to navigate and parse HTML code.\n",
    "\n",
    "#pandas module- converts data into tableau/dataframe format(rows and columns).\n"
   ]
  },
  {
   "cell_type": "markdown",
   "id": "9bc2b11b",
   "metadata": {},
   "source": [
    "# fetch data one div"
   ]
  },
  {
   "cell_type": "code",
   "execution_count": 1,
   "id": "3b255c65",
   "metadata": {},
   "outputs": [],
   "source": [
    "import requests\n",
    "from bs4 import BeautifulSoup"
   ]
  },
  {
   "cell_type": "code",
   "execution_count": 2,
   "id": "78d9b6dc",
   "metadata": {},
   "outputs": [],
   "source": [
    "source_data=requests.get(\"https://webscraper.io/test-sites/e-commerce/static/computers/laptops?page=1\").text"
   ]
  },
  {
   "cell_type": "code",
   "execution_count": 4,
   "id": "a9138231",
   "metadata": {},
   "outputs": [],
   "source": [
    "#print(source_data)"
   ]
  },
  {
   "cell_type": "code",
   "execution_count": 5,
   "id": "0e7c481e",
   "metadata": {},
   "outputs": [
    {
     "name": "stdout",
     "output_type": "stream",
     "text": [
      "<class 'str'>\n"
     ]
    }
   ],
   "source": [
    "print(type(source_data))"
   ]
  },
  {
   "cell_type": "code",
   "execution_count": 6,
   "id": "2eabc703",
   "metadata": {},
   "outputs": [
    {
     "name": "stdout",
     "output_type": "stream",
     "text": [
      "Defaulting to user installation because normal site-packages is not writeable\n",
      "Collecting bs4\n",
      "  Downloading bs4-0.0.1.tar.gz (1.1 kB)\n",
      "  Preparing metadata (setup.py): started\n",
      "  Preparing metadata (setup.py): finished with status 'done'\n",
      "Requirement already satisfied: beautifulsoup4 in c:\\programdata\\anaconda3\\lib\\site-packages (from bs4) (4.11.1)\n",
      "Requirement already satisfied: soupsieve>1.2 in c:\\programdata\\anaconda3\\lib\\site-packages (from beautifulsoup4->bs4) (2.3.1)\n",
      "Building wheels for collected packages: bs4\n",
      "  Building wheel for bs4 (setup.py): started\n",
      "  Building wheel for bs4 (setup.py): finished with status 'done'\n",
      "  Created wheel for bs4: filename=bs4-0.0.1-py3-none-any.whl size=1257 sha256=6beb9208d95b363cab017681594594100f4771c0413280d771758fdc5d0d3a68\n",
      "  Stored in directory: c:\\users\\lenovo\\appdata\\local\\pip\\cache\\wheels\\73\\2b\\cb\\099980278a0c9a3e57ff1a89875ec07bfa0b6fcbebb9a8cad3\n",
      "Successfully built bs4\n",
      "Installing collected packages: bs4\n",
      "Successfully installed bs4-0.0.1\n",
      "Note: you may need to restart the kernel to use updated packages.\n"
     ]
    }
   ],
   "source": [
    "pip install bs4#install beautifulsoup"
   ]
  },
  {
   "cell_type": "code",
   "execution_count": 7,
   "id": "46d74cbb",
   "metadata": {},
   "outputs": [],
   "source": [
    "soup_data=BeautifulSoup(source_data,'lxml')"
   ]
  },
  {
   "cell_type": "code",
   "execution_count": 9,
   "id": "54fdb621",
   "metadata": {},
   "outputs": [],
   "source": [
    "#print(soup_data)"
   ]
  },
  {
   "cell_type": "code",
   "execution_count": 10,
   "id": "b61c958f",
   "metadata": {},
   "outputs": [],
   "source": [
    "first_div=soup_data.find('div',class_='col-sm-4 col-lg-4 col-md-4')"
   ]
  },
  {
   "cell_type": "code",
   "execution_count": 12,
   "id": "eade415f",
   "metadata": {},
   "outputs": [],
   "source": [
    "#print(first_div)"
   ]
  },
  {
   "cell_type": "code",
   "execution_count": 13,
   "id": "c7c46b39",
   "metadata": {},
   "outputs": [],
   "source": [
    "product_name=first_div.find('a').text"
   ]
  },
  {
   "cell_type": "code",
   "execution_count": 14,
   "id": "f779e7b6",
   "metadata": {},
   "outputs": [
    {
     "name": "stdout",
     "output_type": "stream",
     "text": [
      "Packard 255 G2\n"
     ]
    }
   ],
   "source": [
    "print(product_name)"
   ]
  },
  {
   "cell_type": "code",
   "execution_count": 15,
   "id": "b4e4ea59",
   "metadata": {},
   "outputs": [],
   "source": [
    "product_price=first_div.find('h4',class_=\"pull-right price\").text"
   ]
  },
  {
   "cell_type": "code",
   "execution_count": 16,
   "id": "30356f00",
   "metadata": {},
   "outputs": [
    {
     "name": "stdout",
     "output_type": "stream",
     "text": [
      "$416.99\n"
     ]
    }
   ],
   "source": [
    "print(product_price)"
   ]
  },
  {
   "cell_type": "code",
   "execution_count": 17,
   "id": "508e9be0",
   "metadata": {},
   "outputs": [],
   "source": [
    "product_desc=first_div.find('p',class_=\"description\").text"
   ]
  },
  {
   "cell_type": "code",
   "execution_count": 18,
   "id": "1fa735cc",
   "metadata": {},
   "outputs": [
    {
     "name": "stdout",
     "output_type": "stream",
     "text": [
      "15.6\", AMD E2-3800 1.3GHz, 4GB, 500GB, Windows 8.1\n"
     ]
    }
   ],
   "source": [
    "print(product_desc)"
   ]
  },
  {
   "cell_type": "code",
   "execution_count": 19,
   "id": "f0c74406",
   "metadata": {},
   "outputs": [],
   "source": [
    "product_rating=first_div.find('p',class_=\"pull-right\").text"
   ]
  },
  {
   "cell_type": "code",
   "execution_count": 20,
   "id": "181d3541",
   "metadata": {},
   "outputs": [
    {
     "name": "stdout",
     "output_type": "stream",
     "text": [
      "2 reviews\n"
     ]
    }
   ],
   "source": [
    "print(product_rating)"
   ]
  },
  {
   "cell_type": "code",
   "execution_count": 24,
   "id": "53d0bef8",
   "metadata": {},
   "outputs": [],
   "source": [
    "first_div_info={\n",
    "    'product_name':product_name,\n",
    "    'product_price':product_price,\n",
    "    'product_description':product_desc,\n",
    "    'product_rating':product_rating\n",
    "}"
   ]
  },
  {
   "cell_type": "code",
   "execution_count": 25,
   "id": "e5662202",
   "metadata": {},
   "outputs": [
    {
     "name": "stdout",
     "output_type": "stream",
     "text": [
      "{'product_name': 'Packard 255 G2', 'product_price': '$416.99', 'product_description': '15.6\", AMD E2-3800 1.3GHz, 4GB, 500GB, Windows 8.1', 'product_rating': ''}\n"
     ]
    }
   ],
   "source": [
    "print(first_div_info)"
   ]
  },
  {
   "cell_type": "markdown",
   "id": "3240cf07",
   "metadata": {},
   "source": [
    "# fetching all divs from page1"
   ]
  },
  {
   "cell_type": "code",
   "execution_count": 26,
   "id": "ef3d45b2",
   "metadata": {},
   "outputs": [],
   "source": [
    "page1_all_divs=soup_data.find_all('div',class_='col-sm-4 col-lg-4 col-md-4')"
   ]
  },
  {
   "cell_type": "code",
   "execution_count": 28,
   "id": "b8e890a5",
   "metadata": {},
   "outputs": [],
   "source": [
    "#page1_all_divs"
   ]
  },
  {
   "cell_type": "code",
   "execution_count": 30,
   "id": "9cf6ad58",
   "metadata": {},
   "outputs": [],
   "source": [
    "page1_product=[]\n",
    "for item in page1_all_divs:\n",
    "    product_name=item.find('a').text\n",
    "    product_price=item.find('h4',class_=\"pull-right price\").text\n",
    "    product_desc=item.find('p',class_=\"description\").text\n",
    "    product_rating=item.find('p',class_=\"pull-right\").text\n",
    "    first_page_info={\n",
    "    'product_name':product_name,\n",
    "    'product_price':product_price,\n",
    "    'product_description':product_desc,\n",
    "    'product_rating':product_rating\n",
    "    }\n",
    "    page1_product.append(first_page_info)\n"
   ]
  },
  {
   "cell_type": "code",
   "execution_count": 31,
   "id": "82b2b592",
   "metadata": {},
   "outputs": [
    {
     "name": "stdout",
     "output_type": "stream",
     "text": [
      "[{'product_name': 'Packard 255 G2', 'product_price': '$416.99', 'product_description': '15.6\", AMD E2-3800 1.3GHz, 4GB, 500GB, Windows 8.1', 'product_rating': '2 reviews'}, {'product_name': 'Aspire E1-510', 'product_price': '$306.99', 'product_description': '15.6\", Pentium N3520 2.16GHz, 4GB, 500GB, Linux', 'product_rating': '2 reviews'}, {'product_name': 'ThinkPad T540p', 'product_price': '$1178.99', 'product_description': '15.6\", Core i5-4200M, 4GB, 500GB, Win7 Pro 64bit', 'product_rating': '2 reviews'}, {'product_name': 'ProBook', 'product_price': '$739.99', 'product_description': '14\", Core i5 2.6GHz, 4GB, 500GB, Win7 Pro 64bit', 'product_rating': '8 reviews'}, {'product_name': 'ThinkPad X240', 'product_price': '$1311.99', 'product_description': '12.5\", Core i5-4300U, 8GB, 240GB SSD, Win7 Pro 64bit', 'product_rating': '12 reviews'}, {'product_name': 'Aspire E1-572G', 'product_price': '$581.99', 'product_description': '15.6\", Core i5-4200U, 8GB, 1TB, Radeon R7 M265, Windows 8.1', 'product_rating': '2 reviews'}]\n"
     ]
    }
   ],
   "source": [
    "print(page1_product)"
   ]
  },
  {
   "cell_type": "code",
   "execution_count": 32,
   "id": "989f854d",
   "metadata": {},
   "outputs": [
    {
     "name": "stdout",
     "output_type": "stream",
     "text": [
      "Defaulting to user installation because normal site-packages is not writeable\n",
      "Requirement already satisfied: pandas in c:\\programdata\\anaconda3\\lib\\site-packages (1.4.4)\n",
      "Requirement already satisfied: numpy>=1.18.5 in c:\\programdata\\anaconda3\\lib\\site-packages (from pandas) (1.21.5)\n",
      "Requirement already satisfied: python-dateutil>=2.8.1 in c:\\programdata\\anaconda3\\lib\\site-packages (from pandas) (2.8.2)\n",
      "Requirement already satisfied: pytz>=2020.1 in c:\\programdata\\anaconda3\\lib\\site-packages (from pandas) (2022.1)\n",
      "Requirement already satisfied: six>=1.5 in c:\\programdata\\anaconda3\\lib\\site-packages (from python-dateutil>=2.8.1->pandas) (1.16.0)\n",
      "Note: you may need to restart the kernel to use updated packages.\n"
     ]
    }
   ],
   "source": [
    "pip install pandas"
   ]
  },
  {
   "cell_type": "code",
   "execution_count": 33,
   "id": "9f5e3727",
   "metadata": {},
   "outputs": [
    {
     "name": "stdout",
     "output_type": "stream",
     "text": [
      "Defaulting to user installation because normal site-packages is not writeable\n",
      "Requirement already satisfied: xlrd in c:\\programdata\\anaconda3\\lib\\site-packages (2.0.1)\n",
      "Note: you may need to restart the kernel to use updated packages.\n"
     ]
    }
   ],
   "source": [
    "pip install xlrd"
   ]
  },
  {
   "cell_type": "code",
   "execution_count": 34,
   "id": "e42389cd",
   "metadata": {},
   "outputs": [],
   "source": [
    "import pandas as pd"
   ]
  },
  {
   "cell_type": "code",
   "execution_count": 35,
   "id": "9cab2e57",
   "metadata": {},
   "outputs": [],
   "source": [
    "df=pd.DataFrame(page1_product)"
   ]
  },
  {
   "cell_type": "code",
   "execution_count": 36,
   "id": "47ea7ed5",
   "metadata": {},
   "outputs": [
    {
     "data": {
      "text/html": [
       "<div>\n",
       "<style scoped>\n",
       "    .dataframe tbody tr th:only-of-type {\n",
       "        vertical-align: middle;\n",
       "    }\n",
       "\n",
       "    .dataframe tbody tr th {\n",
       "        vertical-align: top;\n",
       "    }\n",
       "\n",
       "    .dataframe thead th {\n",
       "        text-align: right;\n",
       "    }\n",
       "</style>\n",
       "<table border=\"1\" class=\"dataframe\">\n",
       "  <thead>\n",
       "    <tr style=\"text-align: right;\">\n",
       "      <th></th>\n",
       "      <th>product_name</th>\n",
       "      <th>product_price</th>\n",
       "      <th>product_description</th>\n",
       "      <th>product_rating</th>\n",
       "    </tr>\n",
       "  </thead>\n",
       "  <tbody>\n",
       "    <tr>\n",
       "      <th>0</th>\n",
       "      <td>Packard 255 G2</td>\n",
       "      <td>$416.99</td>\n",
       "      <td>15.6\", AMD E2-3800 1.3GHz, 4GB, 500GB, Windows...</td>\n",
       "      <td>2 reviews</td>\n",
       "    </tr>\n",
       "    <tr>\n",
       "      <th>1</th>\n",
       "      <td>Aspire E1-510</td>\n",
       "      <td>$306.99</td>\n",
       "      <td>15.6\", Pentium N3520 2.16GHz, 4GB, 500GB, Linux</td>\n",
       "      <td>2 reviews</td>\n",
       "    </tr>\n",
       "    <tr>\n",
       "      <th>2</th>\n",
       "      <td>ThinkPad T540p</td>\n",
       "      <td>$1178.99</td>\n",
       "      <td>15.6\", Core i5-4200M, 4GB, 500GB, Win7 Pro 64bit</td>\n",
       "      <td>2 reviews</td>\n",
       "    </tr>\n",
       "    <tr>\n",
       "      <th>3</th>\n",
       "      <td>ProBook</td>\n",
       "      <td>$739.99</td>\n",
       "      <td>14\", Core i5 2.6GHz, 4GB, 500GB, Win7 Pro 64bit</td>\n",
       "      <td>8 reviews</td>\n",
       "    </tr>\n",
       "    <tr>\n",
       "      <th>4</th>\n",
       "      <td>ThinkPad X240</td>\n",
       "      <td>$1311.99</td>\n",
       "      <td>12.5\", Core i5-4300U, 8GB, 240GB SSD, Win7 Pro...</td>\n",
       "      <td>12 reviews</td>\n",
       "    </tr>\n",
       "    <tr>\n",
       "      <th>5</th>\n",
       "      <td>Aspire E1-572G</td>\n",
       "      <td>$581.99</td>\n",
       "      <td>15.6\", Core i5-4200U, 8GB, 1TB, Radeon R7 M265...</td>\n",
       "      <td>2 reviews</td>\n",
       "    </tr>\n",
       "  </tbody>\n",
       "</table>\n",
       "</div>"
      ],
      "text/plain": [
       "     product_name product_price  \\\n",
       "0  Packard 255 G2       $416.99   \n",
       "1   Aspire E1-510       $306.99   \n",
       "2  ThinkPad T540p      $1178.99   \n",
       "3         ProBook       $739.99   \n",
       "4   ThinkPad X240      $1311.99   \n",
       "5  Aspire E1-572G       $581.99   \n",
       "\n",
       "                                 product_description product_rating  \n",
       "0  15.6\", AMD E2-3800 1.3GHz, 4GB, 500GB, Windows...      2 reviews  \n",
       "1    15.6\", Pentium N3520 2.16GHz, 4GB, 500GB, Linux      2 reviews  \n",
       "2   15.6\", Core i5-4200M, 4GB, 500GB, Win7 Pro 64bit      2 reviews  \n",
       "3    14\", Core i5 2.6GHz, 4GB, 500GB, Win7 Pro 64bit      8 reviews  \n",
       "4  12.5\", Core i5-4300U, 8GB, 240GB SSD, Win7 Pro...     12 reviews  \n",
       "5  15.6\", Core i5-4200U, 8GB, 1TB, Radeon R7 M265...      2 reviews  "
      ]
     },
     "execution_count": 36,
     "metadata": {},
     "output_type": "execute_result"
    }
   ],
   "source": [
    "df"
   ]
  },
  {
   "cell_type": "code",
   "execution_count": 61,
   "id": "2771466e",
   "metadata": {},
   "outputs": [],
   "source": [
    "#df.to_excel('page1_info_comp_lap.xlsx')"
   ]
  },
  {
   "cell_type": "code",
   "execution_count": 63,
   "id": "bf78848a",
   "metadata": {},
   "outputs": [
    {
     "data": {
      "text/plain": [
       "'C:\\\\Users\\\\lenovo\\\\Desktop\\\\project'"
      ]
     },
     "execution_count": 63,
     "metadata": {},
     "output_type": "execute_result"
    }
   ],
   "source": [
    "pwd"
   ]
  },
  {
   "cell_type": "markdown",
   "id": "b52cf7e0",
   "metadata": {},
   "source": [
    "# fetch all data"
   ]
  },
  {
   "cell_type": "code",
   "execution_count": 40,
   "id": "58812a16",
   "metadata": {},
   "outputs": [],
   "source": [
    "base_url=\"https://webscraper.io/test-sites/e-commerce/static/computers/laptops?page=\""
   ]
  },
  {
   "cell_type": "code",
   "execution_count": 41,
   "id": "66812f9b",
   "metadata": {},
   "outputs": [],
   "source": [
    "all_urls=[]\n",
    "for val in range(1,21):\n",
    "    all_urls.append(base_url+str(val))"
   ]
  },
  {
   "cell_type": "code",
   "execution_count": 43,
   "id": "93166041",
   "metadata": {},
   "outputs": [],
   "source": [
    "#print(all_urls)"
   ]
  },
  {
   "cell_type": "code",
   "execution_count": 44,
   "id": "ee1c9bd2",
   "metadata": {},
   "outputs": [
    {
     "name": "stdout",
     "output_type": "stream",
     "text": [
      "https://webscraper.io/test-sites/e-commerce/static/computers/laptops?page=1\n",
      "https://webscraper.io/test-sites/e-commerce/static/computers/laptops?page=2\n",
      "https://webscraper.io/test-sites/e-commerce/static/computers/laptops?page=3\n",
      "https://webscraper.io/test-sites/e-commerce/static/computers/laptops?page=4\n",
      "https://webscraper.io/test-sites/e-commerce/static/computers/laptops?page=5\n",
      "https://webscraper.io/test-sites/e-commerce/static/computers/laptops?page=6\n",
      "https://webscraper.io/test-sites/e-commerce/static/computers/laptops?page=7\n",
      "https://webscraper.io/test-sites/e-commerce/static/computers/laptops?page=8\n",
      "https://webscraper.io/test-sites/e-commerce/static/computers/laptops?page=9\n",
      "https://webscraper.io/test-sites/e-commerce/static/computers/laptops?page=10\n",
      "https://webscraper.io/test-sites/e-commerce/static/computers/laptops?page=11\n",
      "https://webscraper.io/test-sites/e-commerce/static/computers/laptops?page=12\n",
      "https://webscraper.io/test-sites/e-commerce/static/computers/laptops?page=13\n",
      "https://webscraper.io/test-sites/e-commerce/static/computers/laptops?page=14\n",
      "https://webscraper.io/test-sites/e-commerce/static/computers/laptops?page=15\n",
      "https://webscraper.io/test-sites/e-commerce/static/computers/laptops?page=16\n",
      "https://webscraper.io/test-sites/e-commerce/static/computers/laptops?page=17\n",
      "https://webscraper.io/test-sites/e-commerce/static/computers/laptops?page=18\n",
      "https://webscraper.io/test-sites/e-commerce/static/computers/laptops?page=19\n",
      "https://webscraper.io/test-sites/e-commerce/static/computers/laptops?page=20\n"
     ]
    }
   ],
   "source": [
    "for item in all_urls:\n",
    "    print(item)"
   ]
  },
  {
   "cell_type": "code",
   "execution_count": 54,
   "id": "bcac316d",
   "metadata": {},
   "outputs": [],
   "source": [
    "all_product_list=[]\n",
    "comman_url=\"https://webscraper.io/\"\n",
    "for url in all_urls:\n",
    "    all_url_data=requests.get(url).text\n",
    "    all_soup_data=BeautifulSoup(all_url_data,'lxml')\n",
    "    all_divs=all_soup_data.find_all('div',class_=\"col-sm-4 col-lg-4 col-md-4\")\n",
    "    for item in all_divs:\n",
    "        product_name=item.find('a').text\n",
    "        product_url=item.find('a')['href']\n",
    "        product_url=comman_url+product_url\n",
    "        product_price=item.find('h4',class_=\"pull-right price\").text\n",
    "        product_desc=item.find('p',class_=\"description\").text\n",
    "        product_rating=item.find('p',class_=\"pull-right\").text\n",
    "        all_product_info={\n",
    "        'product_name':product_name,\n",
    "        'product_url':product_url,\n",
    "        'product_price':product_price,\n",
    "        'product_description':product_desc,\n",
    "        'product_rating':product_rating\n",
    "        }\n",
    "        all_product_list.append(all_product_info)\n",
    " "
   ]
  },
  {
   "cell_type": "code",
   "execution_count": 56,
   "id": "a85fa077",
   "metadata": {},
   "outputs": [],
   "source": [
    "#print(all_product_list)"
   ]
  },
  {
   "cell_type": "code",
   "execution_count": 57,
   "id": "e0014764",
   "metadata": {},
   "outputs": [],
   "source": [
    "df1=pd.DataFrame(all_product_list)"
   ]
  },
  {
   "cell_type": "code",
   "execution_count": 58,
   "id": "a8e7c9ea",
   "metadata": {},
   "outputs": [
    {
     "data": {
      "text/html": [
       "<div>\n",
       "<style scoped>\n",
       "    .dataframe tbody tr th:only-of-type {\n",
       "        vertical-align: middle;\n",
       "    }\n",
       "\n",
       "    .dataframe tbody tr th {\n",
       "        vertical-align: top;\n",
       "    }\n",
       "\n",
       "    .dataframe thead th {\n",
       "        text-align: right;\n",
       "    }\n",
       "</style>\n",
       "<table border=\"1\" class=\"dataframe\">\n",
       "  <thead>\n",
       "    <tr style=\"text-align: right;\">\n",
       "      <th></th>\n",
       "      <th>product_name</th>\n",
       "      <th>product_url</th>\n",
       "      <th>product_price</th>\n",
       "      <th>product_description</th>\n",
       "      <th>product_rating</th>\n",
       "    </tr>\n",
       "  </thead>\n",
       "  <tbody>\n",
       "    <tr>\n",
       "      <th>0</th>\n",
       "      <td>Packard 255 G2</td>\n",
       "      <td>https://webscraper.io//test-sites/e-commerce/s...</td>\n",
       "      <td>$416.99</td>\n",
       "      <td>15.6\", AMD E2-3800 1.3GHz, 4GB, 500GB, Windows...</td>\n",
       "      <td>2 reviews</td>\n",
       "    </tr>\n",
       "    <tr>\n",
       "      <th>1</th>\n",
       "      <td>Aspire E1-510</td>\n",
       "      <td>https://webscraper.io//test-sites/e-commerce/s...</td>\n",
       "      <td>$306.99</td>\n",
       "      <td>15.6\", Pentium N3520 2.16GHz, 4GB, 500GB, Linux</td>\n",
       "      <td>2 reviews</td>\n",
       "    </tr>\n",
       "    <tr>\n",
       "      <th>2</th>\n",
       "      <td>ThinkPad T540p</td>\n",
       "      <td>https://webscraper.io//test-sites/e-commerce/s...</td>\n",
       "      <td>$1178.99</td>\n",
       "      <td>15.6\", Core i5-4200M, 4GB, 500GB, Win7 Pro 64bit</td>\n",
       "      <td>2 reviews</td>\n",
       "    </tr>\n",
       "    <tr>\n",
       "      <th>3</th>\n",
       "      <td>ProBook</td>\n",
       "      <td>https://webscraper.io//test-sites/e-commerce/s...</td>\n",
       "      <td>$739.99</td>\n",
       "      <td>14\", Core i5 2.6GHz, 4GB, 500GB, Win7 Pro 64bit</td>\n",
       "      <td>8 reviews</td>\n",
       "    </tr>\n",
       "    <tr>\n",
       "      <th>4</th>\n",
       "      <td>ThinkPad X240</td>\n",
       "      <td>https://webscraper.io//test-sites/e-commerce/s...</td>\n",
       "      <td>$1311.99</td>\n",
       "      <td>12.5\", Core i5-4300U, 8GB, 240GB SSD, Win7 Pro...</td>\n",
       "      <td>12 reviews</td>\n",
       "    </tr>\n",
       "    <tr>\n",
       "      <th>...</th>\n",
       "      <td>...</td>\n",
       "      <td>...</td>\n",
       "      <td>...</td>\n",
       "      <td>...</td>\n",
       "      <td>...</td>\n",
       "    </tr>\n",
       "    <tr>\n",
       "      <th>112</th>\n",
       "      <td>Lenovo ThinkPad...</td>\n",
       "      <td>https://webscraper.io//test-sites/e-commerce/s...</td>\n",
       "      <td>$1349.23</td>\n",
       "      <td>Lenovo ThinkPad T470, 14\" FHD IPS, Core i5-720...</td>\n",
       "      <td>5 reviews</td>\n",
       "    </tr>\n",
       "    <tr>\n",
       "      <th>113</th>\n",
       "      <td>Lenovo ThinkPad...</td>\n",
       "      <td>https://webscraper.io//test-sites/e-commerce/s...</td>\n",
       "      <td>$1362.24</td>\n",
       "      <td>Lenovo ThinkPad Yoga 370 Black, 13.3\" FHD IPS ...</td>\n",
       "      <td>12 reviews</td>\n",
       "    </tr>\n",
       "    <tr>\n",
       "      <th>114</th>\n",
       "      <td>Toshiba Portege...</td>\n",
       "      <td>https://webscraper.io//test-sites/e-commerce/s...</td>\n",
       "      <td>$1366.32</td>\n",
       "      <td>Toshiba Portege X20W-D-10V Black/Blue, 12.5\" F...</td>\n",
       "      <td>11 reviews</td>\n",
       "    </tr>\n",
       "    <tr>\n",
       "      <th>115</th>\n",
       "      <td>Asus ASUSPRO B94...</td>\n",
       "      <td>https://webscraper.io//test-sites/e-commerce/s...</td>\n",
       "      <td>$1381.13</td>\n",
       "      <td>Asus ASUSPRO B9440UA-GV0279R Gray, 14\" FHD, Co...</td>\n",
       "      <td>4 reviews</td>\n",
       "    </tr>\n",
       "    <tr>\n",
       "      <th>116</th>\n",
       "      <td>Asus ROG Strix G...</td>\n",
       "      <td>https://webscraper.io//test-sites/e-commerce/s...</td>\n",
       "      <td>$1399.00</td>\n",
       "      <td>Asus ROG Strix GL702VM-GC146T, 17.3\" FHD, Core...</td>\n",
       "      <td>10 reviews</td>\n",
       "    </tr>\n",
       "  </tbody>\n",
       "</table>\n",
       "<p>117 rows × 5 columns</p>\n",
       "</div>"
      ],
      "text/plain": [
       "            product_name                                        product_url  \\\n",
       "0         Packard 255 G2  https://webscraper.io//test-sites/e-commerce/s...   \n",
       "1          Aspire E1-510  https://webscraper.io//test-sites/e-commerce/s...   \n",
       "2         ThinkPad T540p  https://webscraper.io//test-sites/e-commerce/s...   \n",
       "3                ProBook  https://webscraper.io//test-sites/e-commerce/s...   \n",
       "4          ThinkPad X240  https://webscraper.io//test-sites/e-commerce/s...   \n",
       "..                   ...                                                ...   \n",
       "112   Lenovo ThinkPad...  https://webscraper.io//test-sites/e-commerce/s...   \n",
       "113   Lenovo ThinkPad...  https://webscraper.io//test-sites/e-commerce/s...   \n",
       "114   Toshiba Portege...  https://webscraper.io//test-sites/e-commerce/s...   \n",
       "115  Asus ASUSPRO B94...  https://webscraper.io//test-sites/e-commerce/s...   \n",
       "116  Asus ROG Strix G...  https://webscraper.io//test-sites/e-commerce/s...   \n",
       "\n",
       "    product_price                                product_description  \\\n",
       "0         $416.99  15.6\", AMD E2-3800 1.3GHz, 4GB, 500GB, Windows...   \n",
       "1         $306.99    15.6\", Pentium N3520 2.16GHz, 4GB, 500GB, Linux   \n",
       "2        $1178.99   15.6\", Core i5-4200M, 4GB, 500GB, Win7 Pro 64bit   \n",
       "3         $739.99    14\", Core i5 2.6GHz, 4GB, 500GB, Win7 Pro 64bit   \n",
       "4        $1311.99  12.5\", Core i5-4300U, 8GB, 240GB SSD, Win7 Pro...   \n",
       "..            ...                                                ...   \n",
       "112      $1349.23  Lenovo ThinkPad T470, 14\" FHD IPS, Core i5-720...   \n",
       "113      $1362.24  Lenovo ThinkPad Yoga 370 Black, 13.3\" FHD IPS ...   \n",
       "114      $1366.32  Toshiba Portege X20W-D-10V Black/Blue, 12.5\" F...   \n",
       "115      $1381.13  Asus ASUSPRO B9440UA-GV0279R Gray, 14\" FHD, Co...   \n",
       "116      $1399.00  Asus ROG Strix GL702VM-GC146T, 17.3\" FHD, Core...   \n",
       "\n",
       "    product_rating  \n",
       "0        2 reviews  \n",
       "1        2 reviews  \n",
       "2        2 reviews  \n",
       "3        8 reviews  \n",
       "4       12 reviews  \n",
       "..             ...  \n",
       "112      5 reviews  \n",
       "113     12 reviews  \n",
       "114     11 reviews  \n",
       "115      4 reviews  \n",
       "116     10 reviews  \n",
       "\n",
       "[117 rows x 5 columns]"
      ]
     },
     "execution_count": 58,
     "metadata": {},
     "output_type": "execute_result"
    }
   ],
   "source": [
    "df1"
   ]
  },
  {
   "cell_type": "code",
   "execution_count": 59,
   "id": "a401317c",
   "metadata": {},
   "outputs": [],
   "source": [
    "df1.to_excel('comp_lap_proj.xlsx')"
   ]
  },
  {
   "cell_type": "code",
   "execution_count": 60,
   "id": "217b71e7",
   "metadata": {},
   "outputs": [
    {
     "data": {
      "text/plain": [
       "'C:\\\\Users\\\\lenovo\\\\Desktop\\\\project'"
      ]
     },
     "execution_count": 60,
     "metadata": {},
     "output_type": "execute_result"
    }
   ],
   "source": [
    "pwd"
   ]
  },
  {
   "cell_type": "code",
   "execution_count": null,
   "id": "6f090bab",
   "metadata": {},
   "outputs": [],
   "source": []
  }
 ],
 "metadata": {
  "kernelspec": {
   "display_name": "Python 3 (ipykernel)",
   "language": "python",
   "name": "python3"
  },
  "language_info": {
   "codemirror_mode": {
    "name": "ipython",
    "version": 3
   },
   "file_extension": ".py",
   "mimetype": "text/x-python",
   "name": "python",
   "nbconvert_exporter": "python",
   "pygments_lexer": "ipython3",
   "version": "3.9.13"
  }
 },
 "nbformat": 4,
 "nbformat_minor": 5
}
